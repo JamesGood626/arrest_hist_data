{
 "cells": [
  {
   "cell_type": "markdown",
   "metadata": {},
   "source": [
    "## Goal\n",
    "#### To analyze the probability of being arrested based upon a given age/gender/race combination.\n",
    "\n",
    "#### - which crimes are committed most frequently by each race?\n",
    "#### - which crimes occur most frequently in the each respective burough?\n",
    "#### - what is the trend of overall arrests in nyc, and by year? (then broken down further, trends of arrests based on sex, race, age) Eh.... there's only arrest data records for 2017... so that idea of visualizing the trends over the years is busted.\n"
   ]
  },
  {
   "cell_type": "code",
   "execution_count": 1,
   "metadata": {},
   "outputs": [
    {
     "ename": "ModuleNotFoundError",
     "evalue": "No module named 'seaborn'",
     "output_type": "error",
     "traceback": [
      "\u001b[0;31m---------------------------------------------------------------------------\u001b[0m",
      "\u001b[0;31mModuleNotFoundError\u001b[0m                       Traceback (most recent call last)",
      "\u001b[0;32m<ipython-input-1-bb1e095c5e0d>\u001b[0m in \u001b[0;36m<module>\u001b[0;34m\u001b[0m\n\u001b[1;32m      2\u001b[0m \u001b[0;32mimport\u001b[0m \u001b[0mnumpy\u001b[0m \u001b[0;32mas\u001b[0m \u001b[0mnp\u001b[0m\u001b[0;34m\u001b[0m\u001b[0;34m\u001b[0m\u001b[0m\n\u001b[1;32m      3\u001b[0m \u001b[0;32mimport\u001b[0m \u001b[0mmatplotlib\u001b[0m\u001b[0;34m.\u001b[0m\u001b[0mpyplot\u001b[0m \u001b[0;32mas\u001b[0m \u001b[0mplt\u001b[0m\u001b[0;34m\u001b[0m\u001b[0;34m\u001b[0m\u001b[0m\n\u001b[0;32m----> 4\u001b[0;31m \u001b[0;32mimport\u001b[0m \u001b[0mseaborn\u001b[0m \u001b[0;32mas\u001b[0m \u001b[0msns\u001b[0m\u001b[0;34m\u001b[0m\u001b[0;34m\u001b[0m\u001b[0m\n\u001b[0m\u001b[1;32m      5\u001b[0m \u001b[0mget_ipython\u001b[0m\u001b[0;34m(\u001b[0m\u001b[0;34m)\u001b[0m\u001b[0;34m.\u001b[0m\u001b[0mrun_line_magic\u001b[0m\u001b[0;34m(\u001b[0m\u001b[0;34m'matplotlib'\u001b[0m\u001b[0;34m,\u001b[0m \u001b[0;34m'inline'\u001b[0m\u001b[0;34m)\u001b[0m\u001b[0;34m\u001b[0m\u001b[0;34m\u001b[0m\u001b[0m\n\u001b[1;32m      6\u001b[0m \u001b[0msns\u001b[0m\u001b[0;34m.\u001b[0m\u001b[0mset\u001b[0m\u001b[0;34m(\u001b[0m\u001b[0;34m)\u001b[0m\u001b[0;34m\u001b[0m\u001b[0;34m\u001b[0m\u001b[0m\n",
      "\u001b[0;31mModuleNotFoundError\u001b[0m: No module named 'seaborn'"
     ]
    }
   ],
   "source": [
    "import pandas as pd\n",
    "import numpy as np\n",
    "import matplotlib.pyplot as plt\n",
    "import seaborn as sns\n",
    "%matplotlib inline\n",
    "sns.set()"
   ]
  },
  {
   "cell_type": "code",
   "execution_count": null,
   "metadata": {},
   "outputs": [],
   "source": [
    "arrest_data = pd.read_csv(\"NYPD_Arrests_Data__Historic_.csv\")\n",
    "arrest_data.head()"
   ]
  },
  {
   "cell_type": "code",
   "execution_count": null,
   "metadata": {},
   "outputs": [],
   "source": [
    "arrest_data.columns"
   ]
  },
  {
   "cell_type": "code",
   "execution_count": null,
   "metadata": {},
   "outputs": [],
   "source": [
    "arrest_data.dtypes"
   ]
  },
  {
   "cell_type": "code",
   "execution_count": null,
   "metadata": {},
   "outputs": [],
   "source": [
    "# use regex in apply to determine valid age_groups\n",
    "# arrest_data = arrest_data.apply()\n",
    "import re\n",
    "valid_age_group_pattern = r'\\d+-\\d+|<\\d+|\\d+\\+' # | <d+*\n",
    "re.match(valid_age_group_pattern, \"65+\")"
   ]
  },
  {
   "cell_type": "code",
   "execution_count": 1,
   "metadata": {},
   "outputs": [],
   "source": [
    "# Previous attempt which didn't quite work.\n",
    "# df2 = arrest_data.groupby(\"AGE_GROUP\").filter(lambda x: True if re.match(valid_age_group_pattern, x) else False)\n",
    "# df3 = arrest_data.filter(lambda x: True if re.match(valid_age_group_pattern, x[\"AGE_GROUP\"]) else False)\n",
    "\n",
    "arrest_data.dropna(inplace=True)\n",
    "mask = ~arrest_data[\"AGE_GROUP\"].str.match(r'\\d+-\\d+|<\\d+|\\d+\\+')\n",
    "\n",
    "# The following to steps are close... but no cigar.\n",
    "# Would need to invert the booleans (the - in front of arrest_data does that)\n",
    "# within the mask Series in order\n",
    "# to remove the row values which don't match the regex.\n",
    "\n",
    "# 1. Get names of indexes for which column Age has value 30\n",
    "indexNames = arrest_data[mask].index\n",
    "# 2. Delete these row indexes from dataFrame\n",
    "arrest_data.drop(indexNames, inplace=True)\n",
    "grouped_by_age = arrest_data.groupby(\"AGE_GROUP\")[\"AGE_GROUP\"]"
   ]
  },
  {
   "cell_type": "code",
   "execution_count": null,
   "metadata": {},
   "outputs": [],
   "source": [
    "arrest_data.columns"
   ]
  },
  {
   "cell_type": "code",
   "execution_count": null,
   "metadata": {},
   "outputs": [],
   "source": [
    "arrest_data.groupby(\"PERP_SEX\")[\"PERP_SEX\"].count()"
   ]
  },
  {
   "cell_type": "code",
   "execution_count": null,
   "metadata": {},
   "outputs": [],
   "source": [
    "grouped_by_race = arrest_data.groupby(\"PERP_RACE\")[\"PERP_RACE\"]"
   ]
  },
  {
   "cell_type": "code",
   "execution_count": null,
   "metadata": {
    "scrolled": true
   },
   "outputs": [],
   "source": [
    "race_groups_unique = grouped_by_race.unique()\n",
    "race_groups_count = grouped_by_race.count()\n",
    "\n",
    "# To facilitate plotting these\n",
    "display(race_groups_count)\n",
    "display((race_groups_unique[0], race_groups_count[0]))"
   ]
  },
  {
   "cell_type": "code",
   "execution_count": null,
   "metadata": {
    "scrolled": true
   },
   "outputs": [],
   "source": [
    "counts = []\n",
    "race_groups = []\n",
    "for i in range(len(grouped_by_race.count())):\n",
    "    race_groups.append(race_groups_unique[i][0])\n",
    "    counts.append(race_groups_count[i])\n",
    "\n",
    "display(counts)\n",
    "display(race_groups)"
   ]
  },
  {
   "cell_type": "code",
   "execution_count": null,
   "metadata": {},
   "outputs": [],
   "source": [
    "sns.barplot(counts, race_groups)"
   ]
  },
  {
   "cell_type": "code",
   "execution_count": null,
   "metadata": {
    "scrolled": true
   },
   "outputs": [],
   "source": [
    "age_groups_unique = grouped_by_age.unique()\n",
    "age_groups_count = grouped_by_age.count()\n",
    "\n",
    "# To facilitate plotting these\n",
    "display(age_groups_count)\n",
    "display((age_groups_unique[0], age_groups_count[0]))"
   ]
  },
  {
   "cell_type": "code",
   "execution_count": null,
   "metadata": {},
   "outputs": [],
   "source": [
    "counts = []\n",
    "age_groups = []\n",
    "for i in range(len(grouped_by_age.count())):\n",
    "    age_groups.append(age_groups_unique[i][0])\n",
    "    counts.append(age_groups_count[i])\n",
    "\n",
    "display(counts)\n",
    "display(age_groups)"
   ]
  },
  {
   "cell_type": "code",
   "execution_count": null,
   "metadata": {
    "scrolled": false
   },
   "outputs": [],
   "source": [
    "sns.barplot(age_groups, counts)"
   ]
  },
  {
   "cell_type": "code",
   "execution_count": null,
   "metadata": {},
   "outputs": [],
   "source": [
    "# Rows w/ these mispellings -> corrected to this\n",
    "# OFFENSES AGAINST PUBLIC ADMINI -> OFFENSES AGAINST PUBLIC ADMINISTRATION\n",
    "# MURDER & NON-NEGL. MANSLAUGHTE -> MURDER & NON-NEGL. MANSLAUGHTER\n",
    "arrest_data[\"OFNS_DESC\"].unique()"
   ]
  },
  {
   "cell_type": "code",
   "execution_count": null,
   "metadata": {},
   "outputs": [],
   "source": [
    "# The result will have keys which correspond to \"OFNS_DESC\", and accessing that key will provide a DataFrame\n",
    "# which contains the counts the races and how many instances of this OFNS were perpetrated by that race.\n",
    "cb = pd.crosstab(arrest_data[\"PERP_RACE\"], arrest_data[\"OFNS_DESC\"], rownames=['race'], colnames=['crimes'])"
   ]
  },
  {
   "cell_type": "code",
   "execution_count": null,
   "metadata": {},
   "outputs": [],
   "source": [
    "# I do feel that visualizing this data which provides very meaningful insight is a challenge...\n",
    "sns.heatmap(cb)"
   ]
  },
  {
   "cell_type": "code",
   "execution_count": 2,
   "metadata": {},
   "outputs": [
    {
     "ename": "NameError",
     "evalue": "name 'arrest_data' is not defined",
     "output_type": "error",
     "traceback": [
      "\u001b[0;31m---------------------------------------------------------------------------\u001b[0m",
      "\u001b[0;31mNameError\u001b[0m                                 Traceback (most recent call last)",
      "\u001b[0;32m<ipython-input-2-17699a865d79>\u001b[0m in \u001b[0;36m<module>\u001b[0;34m\u001b[0m\n\u001b[0;32m----> 1\u001b[0;31m \u001b[0mdata_copy1\u001b[0m \u001b[0;34m=\u001b[0m \u001b[0marrest_data\u001b[0m\u001b[0;34m.\u001b[0m\u001b[0mcopy\u001b[0m\u001b[0;34m(\u001b[0m\u001b[0;34m)\u001b[0m\u001b[0;34m\u001b[0m\u001b[0;34m\u001b[0m\u001b[0m\n\u001b[0m",
      "\u001b[0;31mNameError\u001b[0m: name 'arrest_data' is not defined"
     ]
    }
   ],
   "source": [
    "data_copy1 = arrest_data.copy()"
   ]
  },
  {
   "cell_type": "code",
   "execution_count": 3,
   "metadata": {},
   "outputs": [
    {
     "ename": "NameError",
     "evalue": "name 'data_copy1' is not defined",
     "output_type": "error",
     "traceback": [
      "\u001b[0;31m---------------------------------------------------------------------------\u001b[0m",
      "\u001b[0;31mNameError\u001b[0m                                 Traceback (most recent call last)",
      "\u001b[0;32m<ipython-input-3-55a0428959ab>\u001b[0m in \u001b[0;36m<module>\u001b[0;34m\u001b[0m\n\u001b[1;32m      1\u001b[0m \u001b[0;31m# Am aware .apply isn't the most performance option here.\u001b[0m\u001b[0;34m\u001b[0m\u001b[0;34m\u001b[0m\u001b[0;34m\u001b[0m\u001b[0m\n\u001b[0;32m----> 2\u001b[0;31m \u001b[0mdata_copy1\u001b[0m\u001b[0;34m[\u001b[0m\u001b[0;34m\"ARREST_DATE\"\u001b[0m\u001b[0;34m]\u001b[0m \u001b[0;34m=\u001b[0m \u001b[0mdata_copy1\u001b[0m\u001b[0;34m[\u001b[0m\u001b[0;34m\"ARREST_DATE\"\u001b[0m\u001b[0;34m]\u001b[0m\u001b[0;34m.\u001b[0m\u001b[0mapply\u001b[0m\u001b[0;34m(\u001b[0m\u001b[0;32mlambda\u001b[0m \u001b[0mx\u001b[0m\u001b[0;34m:\u001b[0m \u001b[0mx\u001b[0m\u001b[0;34m.\u001b[0m\u001b[0msplit\u001b[0m\u001b[0;34m(\u001b[0m\u001b[0;34m\"/\"\u001b[0m\u001b[0;34m)\u001b[0m\u001b[0;34m[\u001b[0m\u001b[0;34m-\u001b[0m\u001b[0;36m1\u001b[0m\u001b[0;34m]\u001b[0m\u001b[0;34m)\u001b[0m\u001b[0;34m\u001b[0m\u001b[0;34m\u001b[0m\u001b[0m\n\u001b[0m",
      "\u001b[0;31mNameError\u001b[0m: name 'data_copy1' is not defined"
     ]
    }
   ],
   "source": [
    "# Am aware .apply isn't the most performance option here.\n",
    "data_copy1[\"ARREST_DATE\"] = data_copy1[\"ARREST_DATE\"].apply(lambda x: x.split(\"/\")[-1])"
   ]
  },
  {
   "cell_type": "code",
   "execution_count": null,
   "metadata": {},
   "outputs": [],
   "source": [
    "data_copy1[\"ARREST_DATE\"].unique()"
   ]
  },
  {
   "cell_type": "code",
   "execution_count": null,
   "metadata": {},
   "outputs": [],
   "source": [
    "# Why are only 9 of the 18 features being displayed?\n",
    "# And it doesn't look like it does provide a param to modify that...\n",
    "# https://seaborn.pydata.org/generated/seaborn.pairplot.html\n",
    "# So the only option is to create new DataFrames to accomplish that?\n",
    "sns.pairplot(arrest_data)"
   ]
  }
 ],
 "metadata": {
  "kernelspec": {
   "display_name": "Python 3",
   "language": "python",
   "name": "python3"
  },
  "language_info": {
   "codemirror_mode": {
    "name": "ipython",
    "version": 3
   },
   "file_extension": ".py",
   "mimetype": "text/x-python",
   "name": "python",
   "nbconvert_exporter": "python",
   "pygments_lexer": "ipython3",
   "version": "3.7.3"
  }
 },
 "nbformat": 4,
 "nbformat_minor": 4
}
